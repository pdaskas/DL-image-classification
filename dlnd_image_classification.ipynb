{
 "cells": [
  {
   "cell_type": "markdown",
   "metadata": {
    "collapsed": true
   },
   "source": [
    "# Image Classification\n",
    "In this project, you'll classify images from the [CIFAR-10 dataset](https://www.cs.toronto.edu/~kriz/cifar.html).  The dataset consists of airplanes, dogs, cats, and other objects. You'll preprocess the images, then train a convolutional neural network on all the samples. The images need to be normalized and the labels need to be one-hot encoded.  You'll get to apply what you learned and build a convolutional, max pooling, dropout, and fully connected layers.  At the end, you'll get to see your neural network's predictions on the sample images.\n",
    "## Get the Data\n",
    "Run the following cell to download the [CIFAR-10 dataset for python](https://www.cs.toronto.edu/~kriz/cifar-10-python.tar.gz)."
   ]
  },
  {
   "cell_type": "code",
   "execution_count": 1,
   "metadata": {},
   "outputs": [
    {
     "name": "stderr",
     "output_type": "stream",
     "text": [
      "CIFAR-10 Dataset: 171MB [00:36, 4.70MB/s]                              \n"
     ]
    },
    {
     "name": "stdout",
     "output_type": "stream",
     "text": [
      "All files found!\n"
     ]
    }
   ],
   "source": [
    "\"\"\"\n",
    "DON'T MODIFY ANYTHING IN THIS CELL THAT IS BELOW THIS LINE\n",
    "\"\"\"\n",
    "from urllib.request import urlretrieve\n",
    "from os.path import isfile, isdir\n",
    "from tqdm import tqdm\n",
    "import problem_unittests as tests\n",
    "import tarfile\n",
    "\n",
    "cifar10_dataset_folder_path = 'cifar-10-batches-py'\n",
    "\n",
    "# Use Floyd's cifar-10 dataset if present\n",
    "floyd_cifar10_location = '/cifar/cifar-10-python.tar.gz'\n",
    "if isfile(floyd_cifar10_location):\n",
    "    tar_gz_path = floyd_cifar10_location\n",
    "else:\n",
    "    tar_gz_path = 'cifar-10-python.tar.gz'\n",
    "\n",
    "class DLProgress(tqdm):\n",
    "    last_block = 0\n",
    "\n",
    "    def hook(self, block_num=1, block_size=1, total_size=None):\n",
    "        self.total = total_size\n",
    "        self.update((block_num - self.last_block) * block_size)\n",
    "        self.last_block = block_num\n",
    "\n",
    "if not isfile(tar_gz_path):\n",
    "    with DLProgress(unit='B', unit_scale=True, miniters=1, desc='CIFAR-10 Dataset') as pbar:\n",
    "        urlretrieve(\n",
    "            'https://www.cs.toronto.edu/~kriz/cifar-10-python.tar.gz',\n",
    "            tar_gz_path,\n",
    "            pbar.hook)\n",
    "\n",
    "if not isdir(cifar10_dataset_folder_path):\n",
    "    with tarfile.open(tar_gz_path) as tar:\n",
    "        tar.extractall()\n",
    "        tar.close()\n",
    "\n",
    "\n",
    "tests.test_folder_path(cifar10_dataset_folder_path)"
   ]
  },
  {
   "cell_type": "markdown",
   "metadata": {},
   "source": [
    "## Explore the Data\n",
    "The dataset is broken into batches to prevent your machine from running out of memory.  The CIFAR-10 dataset consists of 5 batches, named `data_batch_1`, `data_batch_2`, etc.. Each batch contains the labels and images that are one of the following:\n",
    "* airplane\n",
    "* automobile\n",
    "* bird\n",
    "* cat\n",
    "* deer\n",
    "* dog\n",
    "* frog\n",
    "* horse\n",
    "* ship\n",
    "* truck\n",
    "\n",
    "Understanding a dataset is part of making predictions on the data.  Play around with the code cell below by changing the `batch_id` and `sample_id`. The `batch_id` is the id for a batch (1-5). The `sample_id` is the id for a image and label pair in the batch.\n",
    "\n",
    "Ask yourself \"What are all possible labels?\", \"What is the range of values for the image data?\", \"Are the labels in order or random?\".  Answers to questions like these will help you preprocess the data and end up with better predictions."
   ]
  },
  {
   "cell_type": "code",
   "execution_count": 2,
   "metadata": {},
   "outputs": [
    {
     "name": "stdout",
     "output_type": "stream",
     "text": [
      "\n",
      "Stats of batch 1:\n",
      "Samples: 10000\n",
      "Label Counts: {0: 1005, 1: 974, 2: 1032, 3: 1016, 4: 999, 5: 937, 6: 1030, 7: 1001, 8: 1025, 9: 981}\n",
      "First 20 Labels: [6, 9, 9, 4, 1, 1, 2, 7, 8, 3, 4, 7, 7, 2, 9, 9, 9, 3, 2, 6]\n",
      "\n",
      "Example of Image 5:\n",
      "Image - Min Value: 0 Max Value: 252\n",
      "Image - Shape: (32, 32, 3)\n",
      "Label - Label Id: 1 Name: automobile\n"
     ]
    },
    {
     "data": {
      "image/png": "[encoded data removed]",
      "text/plain": [
       "<matplotlib.figure.Figure at 0x7f1e69479550>"
      ]
     },
     "metadata": {
      "image/png": {
       "height": 250,
       "width": 253
      }
     },
     "output_type": "display_data"
    }
   ],
   "source": [
    "%matplotlib inline\n",
    "%config InlineBackend.figure_format = 'retina'\n",
    "\n",
    "import helper\n",
    "import numpy as np\n",
    "\n",
    "# Explore the dataset\n",
    "batch_id = 1\n",
    "sample_id = 5\n",
    "helper.display_stats(cifar10_dataset_folder_path, batch_id, sample_id)"
   ]
  },
  {
   "cell_type": "markdown",
   "metadata": {},
   "source": [
    "## Implement Preprocess Functions\n",
    "### Normalize\n",
    "In the cell below, implement the `normalize` function to take in image data, `x`, and return it as a normalized Numpy array. The values should be in the range of 0 to 1, inclusive.  The return object should be the same shape as `x`."
   ]
  },
  {
   "cell_type": "code",
   "execution_count": 77,
   "metadata": {},
   "outputs": [
    {
     "name": "stdout",
     "output_type": "stream",
     "text": [
      "Tests Passed\n"
     ]
    }
   ],
   "source": [
    "def normalize(x):\n",
    "    \"\"\"\n",
    "    Normalize a list of sample image data in the range of 0 to 1\n",
    "    : x: List of image data.  The image shape is (32, 32, 3)\n",
    "    : return: Numpy array of normalize data\n",
    "    \"\"\"\n",
    "    # TODO: Implement Function\n",
    "    #print(x[0] / 255)\n",
    "    #print(x.shape)\n",
    "    max_rgb_value = 255\n",
    "    normalized_data = x/max_rgb_value\n",
    "    shape_of_normalized_data = normalized_data.shape        \n",
    "    return normalized_data\n",
    "\n",
    "\"\"\"\n",
    "DON'T MODIFY ANYTHING IN THIS CELL THAT IS BELOW THIS LINE\n",
    "\"\"\"\n",
    "tests.test_normalize(normalize)"
   ]
  },
  {
   "cell_type": "markdown",
   "metadata": {},
   "source": [
    "### One-hot encode\n",
    "Just like the previous code cell, you'll be implementing a function for preprocessing.  This time, you'll implement the `one_hot_encode` function. The input, `x`, are a list of labels.  Implement the function to return the list of labels as One-Hot encoded Numpy array.  The possible values for labels are 0 to 9. The one-hot encoding function should return the same encoding for each value between each call to `one_hot_encode`.  Make sure to save the map of encodings outside the function.\n",
    "\n",
    "Hint: Don't reinvent the wheel."
   ]
  },
  {
   "cell_type": "code",
   "execution_count": 78,
   "metadata": {},
   "outputs": [
    {
     "name": "stdout",
     "output_type": "stream",
     "text": [
      "Tests Passed\n"
     ]
    }
   ],
   "source": [
    "def one_hot_encode(x):\n",
    "    \"\"\"\n",
    "    One hot encode a list of sample labels. Return a one-hot encoded vector for each label.\n",
    "    : x: List of sample Labels\n",
    "    : return: Numpy array of one-hot encoded labels\n",
    "    \"\"\"\n",
    "    # TODO: Implement Function\n",
    "    #convert 0,1,2,3,4,5,6,7,8,9\n",
    "    #to\n",
    "    #[1,0,0,0,0,0,0,0,0,0] #0\n",
    "    #[0,1,0,0,0,0,0,0,0,0] #1\n",
    "    #[0,0,1,0,0,0,0,0,0,0] #2\n",
    "    #[0,0,0,1,0,0,0,0,0,0] #3\n",
    "    #[0,0,0,0,1,0,0,0,0,0] #4\n",
    "    #[0,0,0,0,0,1,0,0,0,0] #5\n",
    "    #[0,0,0,0,0,0,1,0,0,0] #6\n",
    "    #[0,0,0,0,0,0,0,1,0,0] #7\n",
    "    #[0,0,0,0,0,0,0,0,1,0] #8\n",
    "    #[0,0,0,0,0,0,0,0,0,1] #9\n",
    "    #https://docs.scipy.org/doc/numpy-1.13.0/reference/generated/numpy.eye.html\n",
    "    possible_label_size = 10\n",
    "    #Commented out for submission\n",
    "    #print(len(x))\n",
    "    #for i in range(len(x)):\n",
    "    #    print(x[i], ' = ' , np.eye(possible_label_size)[x][i])\n",
    "    return np.eye(possible_label_size)[x]\n",
    "\n",
    "\n",
    "\"\"\"\n",
    "DON'T MODIFY ANYTHING IN THIS CELL THAT IS BELOW THIS LINE\n",
    "\"\"\"\n",
    "tests.test_one_hot_encode(one_hot_encode)"
   ]
  },
  {
   "cell_type": "markdown",
   "metadata": {},
   "source": [
    "### Randomize Data\n",
    "As you saw from exploring the data above, the order of the samples are randomized.  It doesn't hurt to randomize it again, but you don't need to for this dataset."
   ]
  },
  {
   "cell_type": "markdown",
   "metadata": {},
   "source": [
    "## Preprocess all the data and save it\n",
    "Running the code cell below will preprocess all the CIFAR-10 data and save it to file. The code below also uses 10% of the training data for validation."
   ]
  },
  {
   "cell_type": "code",
   "execution_count": 79,
   "metadata": {
    "collapsed": true
   },
   "outputs": [],
   "source": [
    "\"\"\"\n",
    "DON'T MODIFY ANYTHING IN THIS CELL\n",
    "\"\"\"\n",
    "# Preprocess Training, Validation, and Testing Data\n",
    "helper.preprocess_and_save_data(cifar10_dataset_folder_path, normalize, one_hot_encode)"
   ]
  },
  {
   "cell_type": "markdown",
   "metadata": {},
   "source": [
    "# Check Point\n",
    "This is your first checkpoint.  If you ever decide to come back to this notebook or have to restart the notebook, you can start from here.  The preprocessed data has been saved to disk."
   ]
  },
  {
   "cell_type": "code",
   "execution_count": 80,
   "metadata": {
    "collapsed": true
   },
   "outputs": [],
   "source": [
    "\"\"\"\n",
    "DON'T MODIFY ANYTHING IN THIS CELL\n",
    "\"\"\"\n",
    "import pickle\n",
    "import problem_unittests as tests\n",
    "import helper\n",
    "\n",
    "# Load the Preprocessed Validation data\n",
    "valid_features, valid_labels = pickle.load(open('preprocess_validation.p', mode='rb'))"
   ]
  },
  {
   "cell_type": "markdown",
   "metadata": {},
   "source": [
    "## Build the network\n",
    "For the neural network, you'll build each layer into a function.  Most of the code you've seen has been outside of functions. To test your code more thoroughly, we require that you put each layer in a function.  This allows us to give you better feedback and test for simple mistakes using our unittests before you submit your project.\n",
    "\n",
    ">**Note:** If you're finding it hard to dedicate enough time for this course each week, we've provided a small shortcut to this part of the project. In the next couple of problems, you'll have the option to use classes from the [TensorFlow Layers](https://www.tensorflow.org/api_docs/python/tf/layers) or [TensorFlow Layers (contrib)](https://www.tensorflow.org/api_guides/python/contrib.layers) packages to build each layer, except the layers you build in the \"Convolutional and Max Pooling Layer\" section.  TF Layers is similar to Keras's and TFLearn's abstraction to layers, so it's easy to pickup.\n",
    "\n",
    ">However, if you would like to get the most out of this course, try to solve all the problems _without_ using anything from the TF Layers packages. You **can** still use classes from other packages that happen to have the same name as ones you find in TF Layers! For example, instead of using the TF Layers version of the `conv2d` class, [tf.layers.conv2d](https://www.tensorflow.org/api_docs/python/tf/layers/conv2d), you would want to use the TF Neural Network version of `conv2d`, [tf.nn.conv2d](https://www.tensorflow.org/api_docs/python/tf/nn/conv2d). \n",
    "\n",
    "Let's begin!\n",
    "\n",
    "### Input\n",
    "The neural network needs to read the image data, one-hot encoded labels, and dropout keep probability. Implement the following functions\n",
    "* Implement `neural_net_image_input`\n",
    " * Return a [TF Placeholder](https://www.tensorflow.org/api_docs/python/tf/placeholder)\n",
    " * Set the shape using `image_shape` with batch size set to `None`.\n",
    " * Name the TensorFlow placeholder \"x\" using the TensorFlow `name` parameter in the [TF Placeholder](https://www.tensorflow.org/api_docs/python/tf/placeholder).\n",
    "* Implement `neural_net_label_input`\n",
    " * Return a [TF Placeholder](https://www.tensorflow.org/api_docs/python/tf/placeholder)\n",
    " * Set the shape using `n_classes` with batch size set to `None`.\n",
    " * Name the TensorFlow placeholder \"y\" using the TensorFlow `name` parameter in the [TF Placeholder](https://www.tensorflow.org/api_docs/python/tf/placeholder).\n",
    "* Implement `neural_net_keep_prob_input`\n",
    " * Return a [TF Placeholder](https://www.tensorflow.org/api_docs/python/tf/placeholder) for dropout keep probability.\n",
    " * Name the TensorFlow placeholder \"keep_prob\" using the TensorFlow `name` parameter in the [TF Placeholder](https://www.tensorflow.org/api_docs/python/tf/placeholder).\n",
    "\n",
    "These names will be used at the end of the project to load your saved model.\n",
    "\n",
    "Note: `None` for shapes in TensorFlow allow for a dynamic size."
   ]
  },
  {
   "cell_type": "code",
   "execution_count": 308,
   "metadata": {},
   "outputs": [
    {
     "name": "stdout",
     "output_type": "stream",
     "text": [
      "Image Input Tests Passed.\n",
      "Label Input Tests Passed.\n",
      "Keep Prob Tests Passed.\n"
     ]
    }
   ],
   "source": [
    "import tensorflow as tf\n",
    "\n",
    "def neural_net_image_input(image_shape):\n",
    "    \"\"\"\n",
    "    Return a Tensor for a batch of image input\n",
    "    : image_shape: Shape of the images\n",
    "    : return: Tensor for image input.\n",
    "    \"\"\"\n",
    "    #print(len(image_shape))\n",
    "    assert len(image_shape) == 3, 'tuple length is not 3'\n",
    "    #print(type(image_shape)) -> tuple = w x h x d       \n",
    "    return tf.placeholder(tf.float32, shape=[None, image_shape[0], image_shape[1], image_shape[2]], name='x')    \n",
    "\n",
    "def neural_net_label_input(n_classes):\n",
    "    \"\"\"\n",
    "    Return a Tensor for a batch of label input\n",
    "    : n_classes: Number of classes\n",
    "    : return: Tensor for label input.\n",
    "    \"\"\"\n",
    "    #print(type(n_classes)) -> int\n",
    "    return tf.placeholder(tf.float32, shape=[None,n_classes], name='y')\n",
    "\n",
    "\n",
    "def neural_net_keep_prob_input():\n",
    "    \"\"\"\n",
    "    Return a Tensor for keep probability\n",
    "    : return: Tensor for keep probability.\n",
    "    \"\"\"\n",
    "    return tf.placeholder(tf.float32, name='keep_prob')\n",
    "\n",
    "\n",
    "\"\"\"\n",
    "DON'T MODIFY ANYTHING IN THIS CELL THAT IS BELOW THIS LINE\n",
    "\"\"\"\n",
    "tf.reset_default_graph()\n",
    "tests.test_nn_image_inputs(neural_net_image_input)\n",
    "tests.test_nn_label_inputs(neural_net_label_input)\n",
    "tests.test_nn_keep_prob_inputs(neural_net_keep_prob_input)"
   ]
  },
  {
   "cell_type": "markdown",
   "metadata": {},
   "source": [
    "### Convolution and Max Pooling Layer\n",
    "Convolution layers have a lot of success with images. For this code cell, you should implement the function `conv2d_maxpool` to apply convolution then max pooling:\n",
    "* Create the weight and bias using `conv_ksize`, `conv_num_outputs` and the shape of `x_tensor`.\n",
    "* Apply a convolution to `x_tensor` using weight and `conv_strides`.\n",
    " * We recommend you use same padding, but you're welcome to use any padding.\n",
    "* Add bias\n",
    "* Add a nonlinear activation to the convolution.\n",
    "* Apply Max Pooling using `pool_ksize` and `pool_strides`.\n",
    " * We recommend you use same padding, but you're welcome to use any padding.\n",
    "\n",
    "**Note:** You **can't** use [TensorFlow Layers](https://www.tensorflow.org/api_docs/python/tf/layers) or [TensorFlow Layers (contrib)](https://www.tensorflow.org/api_guides/python/contrib.layers) for **this** layer, but you can still use TensorFlow's [Neural Network](https://www.tensorflow.org/api_docs/python/tf/nn) package. You may still use the shortcut option for all the **other** layers."
   ]
  },
  {
   "cell_type": "code",
   "execution_count": 309,
   "metadata": {},
   "outputs": [
    {
     "name": "stdout",
     "output_type": "stream",
     "text": [
      "Tests Passed\n"
     ]
    }
   ],
   "source": [
    "def conv2d_maxpool(x_tensor, conv_num_outputs, conv_ksize, conv_strides, pool_ksize, pool_strides):\n",
    "    \"\"\"\n",
    "    Apply convolution then max pooling to x_tensor\n",
    "    :param x_tensor: TensorFlow Tensor\n",
    "    :param conv_num_outputs: Number of outputs for the convolutional layer\n",
    "    :param conv_ksize: kernal size 2-D Tuple for the convolutional layer\n",
    "    :param conv_strides: Stride 2-D Tuple for convolution\n",
    "    :param pool_ksize: kernal size 2-D Tuple for pool\n",
    "    :param pool_strides: Stride 2-D Tuple for pool\n",
    "    : return: A tensor that represents convolution and max pooling of x_tensor\n",
    "    \"\"\"\n",
    "    \n",
    "    filter_weights = tf.Variable(tf.truncated_normal((conv_ksize[0], \n",
    "                                                      conv_ksize[1], \n",
    "                                                      x_tensor.shape[3].value, \n",
    "                                                      conv_num_outputs),stddev=.05)) \n",
    "    \n",
    "    bias = tf.Variable(tf.zeros(conv_num_outputs)) \n",
    "    \n",
    "    strides = [1, conv_strides[0], conv_strides[1], 1]\n",
    "    padding = 'SAME'\n",
    "    \n",
    "    conv = tf.nn.conv2d(x_tensor, \n",
    "                        filter_weights, \n",
    "                        strides, \n",
    "                        padding) \n",
    "    \n",
    "    conv = tf.nn.bias_add(conv, bias) \n",
    "    \n",
    "    conv = tf.nn.relu(conv)\n",
    "    conv = tf.nn.max_pool(conv,\n",
    "                          ksize=[1, pool_ksize[0], pool_ksize[1], 1],\n",
    "                          strides=[1, pool_strides[0], pool_strides[1], 1],\n",
    "                          padding='SAME')\n",
    "    return conv \n",
    "\n",
    "\n",
    "\"\"\"\n",
    "DON'T MODIFY ANYTHING IN THIS CELL THAT IS BELOW THIS LINE\n",
    "\"\"\"\n",
    "tests.test_con_pool(conv2d_maxpool)"
   ]
  },
  {
   "cell_type": "markdown",
   "metadata": {},
   "source": [
    "### Flatten Layer\n",
    "Implement the `flatten` function to change the dimension of `x_tensor` from a 4-D tensor to a 2-D tensor.  The output should be the shape (*Batch Size*, *Flattened Image Size*). Shortcut option: you can use classes from the [TensorFlow Layers](https://www.tensorflow.org/api_docs/python/tf/layers) or [TensorFlow Layers (contrib)](https://www.tensorflow.org/api_guides/python/contrib.layers) packages for this layer. For more of a challenge, only use other TensorFlow packages."
   ]
  },
  {
   "cell_type": "code",
   "execution_count": 310,
   "metadata": {},
   "outputs": [
    {
     "name": "stdout",
     "output_type": "stream",
     "text": [
      "Tests Passed\n"
     ]
    }
   ],
   "source": [
    "def flatten(x_tensor):\n",
    "    \"\"\"\n",
    "    Flatten x_tensor to (Batch Size, Flattened Image Size)\n",
    "    : x_tensor: A tensor of size (Batch Size, ...), where ... are the image dimensions.\n",
    "    : return: A tensor of size (Batch Size, Flattened Image Size).\n",
    "    \"\"\"\n",
    "    #print(x_tensor) \n",
    "    flattened_image_size = x_tensor.shape[1].value *  x_tensor.shape[2].value *  x_tensor.shape[3].value    \n",
    "    flattened = 1\n",
    "    #can this be reduced?\n",
    "    for i in range(len(x_tensor.shape)):\n",
    "        if i != 0:            \n",
    "            flattened = flattened * x_tensor.shape[i].value\n",
    "    #https://www.tensorflow.org/api_docs/python/tf/reshape\n",
    "    reshaped = tf.reshape(x_tensor, [-1,flattened])\n",
    "    #print(reshaped.shape)\n",
    "    return reshaped\n",
    "    \n",
    "\"\"\"\n",
    "DON'T MODIFY ANYTHING IN THIS CELL THAT IS BELOW THIS LINE\n",
    "\"\"\"\n",
    "tests.test_flatten(flatten)"
   ]
  },
  {
   "cell_type": "markdown",
   "metadata": {},
   "source": [
    "### Fully-Connected Layer\n",
    "Implement the `fully_conn` function to apply a fully connected layer to `x_tensor` with the shape (*Batch Size*, *num_outputs*). Shortcut option: you can use classes from the [TensorFlow Layers](https://www.tensorflow.org/api_docs/python/tf/layers) or [TensorFlow Layers (contrib)](https://www.tensorflow.org/api_guides/python/contrib.layers) packages for this layer. For more of a challenge, only use other TensorFlow packages."
   ]
  },
  {
   "cell_type": "code",
   "execution_count": 311,
   "metadata": {},
   "outputs": [
    {
     "name": "stdout",
     "output_type": "stream",
     "text": [
      "Tests Passed\n"
     ]
    }
   ],
   "source": [
    "def fully_conn(x_tensor, num_outputs):\n",
    "    \"\"\"\n",
    "    Apply a fully connected layer to x_tensor using weight and bias\n",
    "    : x_tensor: A 2-D tensor where the first dimension is batch size.\n",
    "    : num_outputs: The number of output that the new tensor should be.\n",
    "    : return: A 2-D tensor where the second dimension is num_outputs.\n",
    "    \"\"\"\n",
    "    \n",
    "    flattened = 1\n",
    "    #can this be reduced?\n",
    "    for i in range(len(x_tensor.shape)):\n",
    "        if i != 0:            \n",
    "            flattened = flattened * x_tensor.shape[i].value\n",
    "            \n",
    "    weights = tf.Variable(tf.truncated_normal([flattened, num_outputs], stddev=0.05))\n",
    "    bias = tf.Variable(tf.zeros([num_outputs]))\n",
    "    return tf.nn.relu(tf.add(tf.matmul(x_tensor, weights), bias))  \n",
    "\n",
    "\n",
    "\"\"\"\n",
    "DON'T MODIFY ANYTHING IN THIS CELL THAT IS BELOW THIS LINE\n",
    "\"\"\"\n",
    "tests.test_fully_conn(fully_conn)"
   ]
  },
  {
   "cell_type": "markdown",
   "metadata": {},
   "source": [
    "### Output Layer\n",
    "Implement the `output` function to apply a fully connected layer to `x_tensor` with the shape (*Batch Size*, *num_outputs*). Shortcut option: you can use classes from the [TensorFlow Layers](https://www.tensorflow.org/api_docs/python/tf/layers) or [TensorFlow Layers (contrib)](https://www.tensorflow.org/api_guides/python/contrib.layers) packages for this layer. For more of a challenge, only use other TensorFlow packages.\n",
    "\n",
    "**Note:** Activation, softmax, or cross entropy should **not** be applied to this."
   ]
  },
  {
   "cell_type": "code",
   "execution_count": 312,
   "metadata": {},
   "outputs": [
    {
     "name": "stdout",
     "output_type": "stream",
     "text": [
      "Tests Passed\n"
     ]
    }
   ],
   "source": [
    "def output(x_tensor, num_outputs):\n",
    "    \"\"\"\n",
    "    Apply a output layer to x_tensor using weight and bias\n",
    "    : x_tensor: A 2-D tensor where the first dimension is batch size.\n",
    "    : num_outputs: The number of output that the new tensor should be.\n",
    "    : return: A 2-D tensor where the second dimension is num_outputs.\n",
    "    \"\"\"\n",
    "    flattened = 1\n",
    "    for i in range(len(x_tensor.shape)):\n",
    "        if i != 0:            \n",
    "            flattened = flattened * x_tensor.shape[i].value\n",
    "    weights = tf.Variable(tf.truncated_normal([flattened, num_outputs], stddev=0.05))\n",
    "    bias = tf.Variable(tf.zeros([num_outputs]))\n",
    "    return tf.add(tf.matmul(x_tensor, weights), bias)\n",
    "\n",
    "\"\"\"\n",
    "DON'T MODIFY ANYTHING IN THIS CELL THAT IS BELOW THIS LINE\n",
    "\"\"\"\n",
    "tests.test_output(output)"
   ]
  },
  {
   "cell_type": "markdown",
   "metadata": {},
   "source": [
    "### Create Convolutional Model\n",
    "Implement the function `conv_net` to create a convolutional neural network model. The function takes in a batch of images, `x`, and outputs logits.  Use the layers you created above to create this model:\n",
    "\n",
    "* Apply 1, 2, or 3 Convolution and Max Pool layers\n",
    "* Apply a Flatten Layer\n",
    "* Apply 1, 2, or 3 Fully Connected Layers\n",
    "* Apply an Output Layer\n",
    "* Return the output\n",
    "* Apply [TensorFlow's Dropout](https://www.tensorflow.org/api_docs/python/tf/nn/dropout) to one or more layers in the model using `keep_prob`. "
   ]
  },
  {
   "cell_type": "code",
   "execution_count": 313,
   "metadata": {},
   "outputs": [
    {
     "name": "stdout",
     "output_type": "stream",
     "text": [
      "Neural Network Built!\n"
     ]
    }
   ],
   "source": [
    "def conv_net(x, keep_prob):\n",
    "    \"\"\"\n",
    "    Create a convolutional neural network model\n",
    "    : x: Placeholder tensor that holds image data.\n",
    "    : keep_prob: Placeholder tensor that hold dropout keep probability.\n",
    "    : return: Tensor that represents logits\n",
    "    \"\"\"\n",
    "    # TODO: Apply 1, 2, or 3 Convolution and Max Pool layers\n",
    "    #    Play around with different number of outputs, kernel size and stride\n",
    "    # Function Definition from Above:\n",
    "    #    conv2d_maxpool(x_tensor, conv_num_outputs, conv_ksize, conv_strides, pool_ksize, pool_strides)    \n",
    "\n",
    "    conv = conv2d_maxpool(x, \n",
    "                          conv_num_outputs=64, \n",
    "                          conv_ksize = [5,5], \n",
    "                          conv_strides = [1,1], \n",
    "                          pool_ksize = [3,3], \n",
    "                          pool_strides = [2,2])\n",
    "    conv = conv2d_maxpool(conv, \n",
    "                      conv_num_outputs=64, \n",
    "                      conv_ksize = [5,5], \n",
    "                      conv_strides = [1,1], \n",
    "                      pool_ksize = [3,3], \n",
    "                      pool_strides = [2,2])\n",
    "    \n",
    "    # TODO: Apply a Flatten Layer\n",
    "    flattened = flatten(conv)\n",
    "\n",
    "    # TODO: Apply 1, 2, or 3 Fully Connected Layers\n",
    "    #    Play around with different number of outputs\n",
    "    fully_connected = fully_conn(flattened, 256)\n",
    "    fully_connected = fully_conn(fully_connected, 256)\n",
    "    \n",
    "    fully_connected = tf.nn.dropout(fully_connected, keep_prob)\n",
    "    \n",
    "    # TODO: Apply an Output Layer\n",
    "    #    Set this to the number of classes\n",
    "    output_layer = output(fully_connected, 10)\n",
    "    \n",
    "    return output_layer\n",
    "\n",
    "\"\"\"\n",
    "DON'T MODIFY ANYTHING IN THIS CELL THAT IS BELOW THIS LINE\n",
    "\"\"\"\n",
    "\n",
    "##############################\n",
    "## Build the Neural Network ##\n",
    "##############################\n",
    "\n",
    "# Remove previous weights, bias, inputs, etc..\n",
    "tf.reset_default_graph()\n",
    "\n",
    "# Inputs\n",
    "x = neural_net_image_input((32, 32, 3))\n",
    "y = neural_net_label_input(10)\n",
    "keep_prob = neural_net_keep_prob_input()\n",
    "\n",
    "# Model\n",
    "logits = conv_net(x, keep_prob)\n",
    "\n",
    "# Name logits Tensor, so that is can be loaded from disk after training\n",
    "logits = tf.identity(logits, name='logits')\n",
    "\n",
    "# Loss and Optimizer\n",
    "cost = tf.reduce_mean(tf.nn.softmax_cross_entropy_with_logits(logits=logits, labels=y))\n",
    "optimizer = tf.train.AdamOptimizer().minimize(cost)\n",
    "\n",
    "# Accuracy\n",
    "correct_pred = tf.equal(tf.argmax(logits, 1), tf.argmax(y, 1))\n",
    "accuracy = tf.reduce_mean(tf.cast(correct_pred, tf.float32), name='accuracy')\n",
    "\n",
    "tests.test_conv_net(conv_net)"
   ]
  },
  {
   "cell_type": "markdown",
   "metadata": {},
   "source": [
    "## Train the Neural Network\n",
    "### Single Optimization\n",
    "Implement the function `train_neural_network` to do a single optimization.  The optimization should use `optimizer` to optimize in `session` with a `feed_dict` of the following:\n",
    "* `x` for image input\n",
    "* `y` for labels\n",
    "* `keep_prob` for keep probability for dropout\n",
    "\n",
    "This function will be called for each batch, so `tf.global_variables_initializer()` has already been called.\n",
    "\n",
    "Note: Nothing needs to be returned. This function is only optimizing the neural network."
   ]
  },
  {
   "cell_type": "code",
   "execution_count": 314,
   "metadata": {},
   "outputs": [
    {
     "name": "stdout",
     "output_type": "stream",
     "text": [
      "Tests Passed\n"
     ]
    }
   ],
   "source": [
    "def train_neural_network(session, optimizer, keep_probability, feature_batch, label_batch):\n",
    "    \"\"\"\n",
    "    Optimize the session on a batch of images and labels\n",
    "    : session: Current TensorFlow session\n",
    "    : optimizer: TensorFlow optimizer function\n",
    "    : keep_probability: keep probability\n",
    "    : feature_batch: Batch of Numpy image data\n",
    "    : label_batch: Batch of Numpy label data\n",
    "    \"\"\"\n",
    "    session.run(optimizer, feed_dict={x:feature_batch, \n",
    "                                      y:label_batch,\n",
    "                                      keep_prob: keep_probability})\n",
    "\n",
    "\n",
    "\"\"\"\n",
    "DON'T MODIFY ANYTHING IN THIS CELL THAT IS BELOW THIS LINE\n",
    "\"\"\"\n",
    "tests.test_train_nn(train_neural_network)"
   ]
  },
  {
   "cell_type": "markdown",
   "metadata": {},
   "source": [
    "### Show Stats\n",
    "Implement the function `print_stats` to print loss and validation accuracy.  Use the global variables `valid_features` and `valid_labels` to calculate validation accuracy.  Use a keep probability of `1.0` to calculate the loss and validation accuracy."
   ]
  },
  {
   "cell_type": "code",
   "execution_count": 315,
   "metadata": {
    "collapsed": true
   },
   "outputs": [],
   "source": [
    "def print_stats(session, feature_batch, label_batch, cost, accuracy):\n",
    "    \"\"\"\n",
    "    Print information about loss and validation accuracy\n",
    "    : session: Current TensorFlow session\n",
    "    : feature_batch: Batch of Numpy image data\n",
    "    : label_batch: Batch of Numpy label data\n",
    "    : cost: TensorFlow cost function\n",
    "    : accuracy: TensorFlow accuracy function\n",
    "    \"\"\"\n",
    "    loss = session.run(cost, feed_dict={x:feature_batch, \n",
    "                                        y:label_batch,\n",
    "                                        keep_prob: 1.0})\n",
    "    \n",
    "    validation_accuracy = session.run(accuracy, feed_dict={x:valid_features, \n",
    "                                                           y:valid_labels,\n",
    "                                                           keep_prob: 1.0})\n",
    "    print('Accuracy:',validation_accuracy,' Loss:',loss)\n",
    "    "
   ]
  },
  {
   "cell_type": "markdown",
   "metadata": {},
   "source": [
    "### Hyperparameters\n",
    "Tune the following parameters:\n",
    "* Set `epochs` to the number of iterations until the network stops learning or start overfitting\n",
    "* Set `batch_size` to the highest number that your machine has memory for.  Most people set them to common sizes of memory:\n",
    " * 64\n",
    " * 128\n",
    " * 256\n",
    " * ...\n",
    "* Set `keep_probability` to the probability of keeping a node using dropout"
   ]
  },
  {
   "cell_type": "code",
   "execution_count": 316,
   "metadata": {
    "collapsed": true
   },
   "outputs": [],
   "source": [
    "# TODO: Tune Parameters\n",
    "epochs = 30\n",
    "batch_size = 128\n",
    "keep_probability = .7"
   ]
  },
  {
   "cell_type": "markdown",
   "metadata": {},
   "source": [
    "### Train on a Single CIFAR-10 Batch\n",
    "Instead of training the neural network on all the CIFAR-10 batches of data, let's use a single batch. This should save time while you iterate on the model to get a better accuracy.  Once the final validation accuracy is 50% or greater, run the model on all the data in the next section."
   ]
  },
  {
   "cell_type": "code",
   "execution_count": 317,
   "metadata": {},
   "outputs": [
    {
     "name": "stdout",
     "output_type": "stream",
     "text": [
      "Checking the Training on a Single Batch...\n",
      "Epoch  1, CIFAR-10 Batch 1:  Accuracy: 0.3888  Loss: 1.84189\n",
      "Epoch  2, CIFAR-10 Batch 1:  Accuracy: 0.4664  Loss: 1.68051\n",
      "Epoch  3, CIFAR-10 Batch 1:  Accuracy: 0.503  Loss: 1.37684\n",
      "Epoch  4, CIFAR-10 Batch 1:  Accuracy: 0.5442  Loss: 1.11446\n",
      "Epoch  5, CIFAR-10 Batch 1:  Accuracy: 0.5556  Loss: 0.892323\n",
      "Epoch  6, CIFAR-10 Batch 1:  Accuracy: 0.575  Loss: 0.713623\n",
      "Epoch  7, CIFAR-10 Batch 1:  Accuracy: 0.5834  Loss: 0.606646\n",
      "Epoch  8, CIFAR-10 Batch 1:  Accuracy: 0.5936  Loss: 0.43559\n",
      "Epoch  9, CIFAR-10 Batch 1:  Accuracy: 0.5834  Loss: 0.337002\n",
      "Epoch 10, CIFAR-10 Batch 1:  Accuracy: 0.6074  Loss: 0.23549\n",
      "Epoch 11, CIFAR-10 Batch 1:  Accuracy: 0.6  Loss: 0.186388\n",
      "Epoch 12, CIFAR-10 Batch 1:  Accuracy: 0.572  Loss: 0.20676\n",
      "Epoch 13, CIFAR-10 Batch 1:  Accuracy: 0.5822  Loss: 0.0932991\n",
      "Epoch 14, CIFAR-10 Batch 1:  Accuracy: 0.5812  Loss: 0.0906277\n",
      "Epoch 15, CIFAR-10 Batch 1:  Accuracy: 0.5992  Loss: 0.0790693\n",
      "Epoch 16, CIFAR-10 Batch 1:  Accuracy: 0.5878  Loss: 0.045927\n",
      "Epoch 17, CIFAR-10 Batch 1:  Accuracy: 0.593  Loss: 0.0362161\n",
      "Epoch 18, CIFAR-10 Batch 1:  Accuracy: 0.5802  Loss: 0.0302\n",
      "Epoch 19, CIFAR-10 Batch 1:  Accuracy: 0.572  Loss: 0.046469\n",
      "Epoch 20, CIFAR-10 Batch 1:  Accuracy: 0.5946  Loss: 0.0264857\n",
      "Epoch 21, CIFAR-10 Batch 1:  Accuracy: 0.5804  Loss: 0.00973347\n",
      "Epoch 22, CIFAR-10 Batch 1:  Accuracy: 0.6  Loss: 0.00260669\n",
      "Epoch 23, CIFAR-10 Batch 1:  Accuracy: 0.5748  Loss: 0.0137902\n",
      "Epoch 24, CIFAR-10 Batch 1:  Accuracy: 0.5744  Loss: 0.0085711\n",
      "Epoch 25, CIFAR-10 Batch 1:  Accuracy: 0.5842  Loss: 0.007827\n",
      "Epoch 26, CIFAR-10 Batch 1:  Accuracy: 0.5896  Loss: 0.0122005\n",
      "Epoch 27, CIFAR-10 Batch 1:  Accuracy: 0.5736  Loss: 0.00310872\n",
      "Epoch 28, CIFAR-10 Batch 1:  Accuracy: 0.565  Loss: 0.00719097\n",
      "Epoch 29, CIFAR-10 Batch 1:  Accuracy: 0.5888  Loss: 0.00239388\n",
      "Epoch 30, CIFAR-10 Batch 1:  Accuracy: 0.5736  Loss: 0.0119923\n"
     ]
    }
   ],
   "source": [
    "\"\"\"\n",
    "DON'T MODIFY ANYTHING IN THIS CELL\n",
    "\"\"\"\n",
    "print('Checking the Training on a Single Batch...')\n",
    "with tf.Session() as sess:\n",
    "    # Initializing the variables\n",
    "    sess.run(tf.global_variables_initializer())\n",
    "    \n",
    "    # Training cycle\n",
    "    for epoch in range(epochs):\n",
    "        batch_i = 1\n",
    "        for batch_features, batch_labels in helper.load_preprocess_training_batch(batch_i, batch_size):\n",
    "            train_neural_network(sess, optimizer, keep_probability, batch_features, batch_labels)\n",
    "        print('Epoch {:>2}, CIFAR-10 Batch {}:  '.format(epoch + 1, batch_i), end='')\n",
    "        print_stats(sess, batch_features, batch_labels, cost, accuracy)"
   ]
  },
  {
   "cell_type": "markdown",
   "metadata": {},
   "source": [
    "### Fully Train the Model\n",
    "Now that you got a good accuracy with a single CIFAR-10 batch, try it with all five batches."
   ]
  },
  {
   "cell_type": "code",
   "execution_count": 318,
   "metadata": {},
   "outputs": [
    {
     "name": "stdout",
     "output_type": "stream",
     "text": [
      "Training...\n",
      "Epoch  1, CIFAR-10 Batch 1:  Accuracy: 0.3654  Loss: 2.05277\n",
      "Epoch  1, CIFAR-10 Batch 2:  Accuracy: 0.432  Loss: 1.64159\n",
      "Epoch  1, CIFAR-10 Batch 3:  Accuracy: 0.4918  Loss: 1.23252\n",
      "Epoch  1, CIFAR-10 Batch 4:  Accuracy: 0.5134  Loss: 1.25303\n",
      "Epoch  1, CIFAR-10 Batch 5:  Accuracy: 0.5508  Loss: 1.29785\n",
      "Epoch  2, CIFAR-10 Batch 1:  Accuracy: 0.585  Loss: 1.19993\n",
      "Epoch  2, CIFAR-10 Batch 2:  Accuracy: 0.5574  Loss: 1.02695\n",
      "Epoch  2, CIFAR-10 Batch 3:  Accuracy: 0.5934  Loss: 0.859889\n",
      "Epoch  2, CIFAR-10 Batch 4:  Accuracy: 0.6364  Loss: 0.958687\n",
      "Epoch  2, CIFAR-10 Batch 5:  Accuracy: 0.6364  Loss: 0.861307\n",
      "Epoch  3, CIFAR-10 Batch 1:  Accuracy: 0.6376  Loss: 0.880528\n",
      "Epoch  3, CIFAR-10 Batch 2:  Accuracy: 0.6314  Loss: 0.713666\n",
      "Epoch  3, CIFAR-10 Batch 3:  Accuracy: 0.65  Loss: 0.504468\n",
      "Epoch  3, CIFAR-10 Batch 4:  Accuracy: 0.6754  Loss: 0.695891\n",
      "Epoch  3, CIFAR-10 Batch 5:  Accuracy: 0.6878  Loss: 0.59713\n",
      "Epoch  4, CIFAR-10 Batch 1:  Accuracy: 0.671  Loss: 0.739106\n",
      "Epoch  4, CIFAR-10 Batch 2:  Accuracy: 0.656  Loss: 0.564528\n",
      "Epoch  4, CIFAR-10 Batch 3:  Accuracy: 0.6816  Loss: 0.344048\n",
      "Epoch  4, CIFAR-10 Batch 4:  Accuracy: 0.6818  Loss: 0.546589\n",
      "Epoch  4, CIFAR-10 Batch 5:  Accuracy: 0.6978  Loss: 0.393644\n",
      "Epoch  5, CIFAR-10 Batch 1:  Accuracy: 0.6882  Loss: 0.513603\n",
      "Epoch  5, CIFAR-10 Batch 2:  Accuracy: 0.695  Loss: 0.439405\n",
      "Epoch  5, CIFAR-10 Batch 3:  Accuracy: 0.6828  Loss: 0.269165\n",
      "Epoch  5, CIFAR-10 Batch 4:  Accuracy: 0.6944  Loss: 0.37103\n",
      "Epoch  5, CIFAR-10 Batch 5:  Accuracy: 0.6918  Loss: 0.279789\n",
      "Epoch  6, CIFAR-10 Batch 1:  Accuracy: 0.69  Loss: 0.374827\n",
      "Epoch  6, CIFAR-10 Batch 2:  Accuracy: 0.6852  Loss: 0.339896\n",
      "Epoch  6, CIFAR-10 Batch 3:  Accuracy: 0.6544  Loss: 0.316736\n",
      "Epoch  6, CIFAR-10 Batch 4:  Accuracy: 0.6892  Loss: 0.305096\n",
      "Epoch  6, CIFAR-10 Batch 5:  Accuracy: 0.6988  Loss: 0.222869\n",
      "Epoch  7, CIFAR-10 Batch 1:  Accuracy: 0.6948  Loss: 0.269895\n",
      "Epoch  7, CIFAR-10 Batch 2:  Accuracy: 0.6702  Loss: 0.283273\n",
      "Epoch  7, CIFAR-10 Batch 3:  Accuracy: 0.7058  Loss: 0.192898\n",
      "Epoch  7, CIFAR-10 Batch 4:  Accuracy: 0.6964  Loss: 0.178455\n",
      "Epoch  7, CIFAR-10 Batch 5:  Accuracy: 0.692  Loss: 0.152144\n",
      "Epoch  8, CIFAR-10 Batch 1:  Accuracy: 0.7032  Loss: 0.267947\n",
      "Epoch  8, CIFAR-10 Batch 2:  Accuracy: 0.6764  Loss: 0.286567\n",
      "Epoch  8, CIFAR-10 Batch 3:  Accuracy: 0.7182  Loss: 0.115285\n",
      "Epoch  8, CIFAR-10 Batch 4:  Accuracy: 0.7064  Loss: 0.175216\n",
      "Epoch  8, CIFAR-10 Batch 5:  Accuracy: 0.695  Loss: 0.184193\n",
      "Epoch  9, CIFAR-10 Batch 1:  Accuracy: 0.7024  Loss: 0.170761\n",
      "Epoch  9, CIFAR-10 Batch 2:  Accuracy: 0.6974  Loss: 0.226088\n",
      "Epoch  9, CIFAR-10 Batch 3:  Accuracy: 0.7154  Loss: 0.110136\n",
      "Epoch  9, CIFAR-10 Batch 4:  Accuracy: 0.7112  Loss: 0.124175\n",
      "Epoch  9, CIFAR-10 Batch 5:  Accuracy: 0.6884  Loss: 0.12945\n",
      "Epoch 10, CIFAR-10 Batch 1:  Accuracy: 0.705  Loss: 0.138438\n",
      "Epoch 10, CIFAR-10 Batch 2:  Accuracy: 0.687  Loss: 0.151385\n",
      "Epoch 10, CIFAR-10 Batch 3:  Accuracy: 0.7136  Loss: 0.0957672\n",
      "Epoch 10, CIFAR-10 Batch 4:  Accuracy: 0.7156  Loss: 0.0999611\n",
      "Epoch 10, CIFAR-10 Batch 5:  Accuracy: 0.7204  Loss: 0.0856093\n",
      "Epoch 11, CIFAR-10 Batch 1:  Accuracy: 0.7012  Loss: 0.160089\n",
      "Epoch 11, CIFAR-10 Batch 2:  Accuracy: 0.6878  Loss: 0.145959\n",
      "Epoch 11, CIFAR-10 Batch 3:  Accuracy: 0.711  Loss: 0.0816384\n",
      "Epoch 11, CIFAR-10 Batch 4:  Accuracy: 0.693  Loss: 0.10816\n",
      "Epoch 11, CIFAR-10 Batch 5:  Accuracy: 0.7098  Loss: 0.0982646\n",
      "Epoch 12, CIFAR-10 Batch 1:  Accuracy: 0.709  Loss: 0.110557\n",
      "Epoch 12, CIFAR-10 Batch 2:  Accuracy: 0.678  Loss: 0.0697264\n",
      "Epoch 12, CIFAR-10 Batch 3:  Accuracy: 0.6818  Loss: 0.0674498\n",
      "Epoch 12, CIFAR-10 Batch 4:  Accuracy: 0.698  Loss: 0.112322\n",
      "Epoch 12, CIFAR-10 Batch 5:  Accuracy: 0.7084  Loss: 0.0463516\n",
      "Epoch 13, CIFAR-10 Batch 1:  Accuracy: 0.712  Loss: 0.0865238\n",
      "Epoch 13, CIFAR-10 Batch 2:  Accuracy: 0.687  Loss: 0.0483215\n",
      "Epoch 13, CIFAR-10 Batch 3:  Accuracy: 0.6816  Loss: 0.0372838\n",
      "Epoch 13, CIFAR-10 Batch 4:  Accuracy: 0.6942  Loss: 0.075545\n",
      "Epoch 13, CIFAR-10 Batch 5:  Accuracy: 0.718  Loss: 0.040961\n",
      "Epoch 14, CIFAR-10 Batch 1:  Accuracy: 0.705  Loss: 0.0955098\n",
      "Epoch 14, CIFAR-10 Batch 2:  Accuracy: 0.691  Loss: 0.054554\n",
      "Epoch 14, CIFAR-10 Batch 3:  Accuracy: 0.6914  Loss: 0.0452965\n",
      "Epoch 14, CIFAR-10 Batch 4:  Accuracy: 0.692  Loss: 0.0440952\n",
      "Epoch 14, CIFAR-10 Batch 5:  Accuracy: 0.709  Loss: 0.0296489\n",
      "Epoch 15, CIFAR-10 Batch 1:  Accuracy: 0.7154  Loss: 0.0426298\n",
      "Epoch 15, CIFAR-10 Batch 2:  Accuracy: 0.7018  Loss: 0.0361868\n",
      "Epoch 15, CIFAR-10 Batch 3:  Accuracy: 0.6916  Loss: 0.0182494\n",
      "Epoch 15, CIFAR-10 Batch 4:  Accuracy: 0.6856  Loss: 0.0452114\n",
      "Epoch 15, CIFAR-10 Batch 5:  Accuracy: 0.6988  Loss: 0.0263432\n",
      "Epoch 16, CIFAR-10 Batch 1:  Accuracy: 0.7048  Loss: 0.0340556\n",
      "Epoch 16, CIFAR-10 Batch 2:  Accuracy: 0.6966  Loss: 0.0361188\n",
      "Epoch 16, CIFAR-10 Batch 3:  Accuracy: 0.701  Loss: 0.0399717\n",
      "Epoch 16, CIFAR-10 Batch 4:  Accuracy: 0.6858  Loss: 0.053522\n",
      "Epoch 16, CIFAR-10 Batch 5:  Accuracy: 0.6916  Loss: 0.0167043\n",
      "Epoch 17, CIFAR-10 Batch 1:  Accuracy: 0.7012  Loss: 0.0420184\n",
      "Epoch 17, CIFAR-10 Batch 2:  Accuracy: 0.694  Loss: 0.028598\n",
      "Epoch 17, CIFAR-10 Batch 3:  Accuracy: 0.6996  Loss: 0.008267\n",
      "Epoch 17, CIFAR-10 Batch 4:  Accuracy: 0.7112  Loss: 0.00895974\n",
      "Epoch 17, CIFAR-10 Batch 5:  Accuracy: 0.6904  Loss: 0.0226305\n",
      "Epoch 18, CIFAR-10 Batch 1:  Accuracy: 0.696  Loss: 0.0433667\n",
      "Epoch 18, CIFAR-10 Batch 2:  Accuracy: 0.68  Loss: 0.022541\n",
      "Epoch 18, CIFAR-10 Batch 3:  Accuracy: 0.6958  Loss: 0.00692985\n",
      "Epoch 18, CIFAR-10 Batch 4:  Accuracy: 0.7062  Loss: 0.00781764\n",
      "Epoch 18, CIFAR-10 Batch 5:  Accuracy: 0.7032  Loss: 0.00714922\n",
      "Epoch 19, CIFAR-10 Batch 1:  Accuracy: 0.6966  Loss: 0.0129561\n",
      "Epoch 19, CIFAR-10 Batch 2:  Accuracy: 0.6894  Loss: 0.0212651\n",
      "Epoch 19, CIFAR-10 Batch 3:  Accuracy: 0.696  Loss: 0.00829552\n",
      "Epoch 19, CIFAR-10 Batch 4:  Accuracy: 0.6988  Loss: 0.0119455\n",
      "Epoch 19, CIFAR-10 Batch 5:  Accuracy: 0.7064  Loss: 0.0105316\n",
      "Epoch 20, CIFAR-10 Batch 1:  Accuracy: 0.6922  Loss: 0.014525\n",
      "Epoch 20, CIFAR-10 Batch 2:  Accuracy: 0.692  Loss: 0.0117883\n",
      "Epoch 20, CIFAR-10 Batch 3:  Accuracy: 0.6864  Loss: 0.00520532\n",
      "Epoch 20, CIFAR-10 Batch 4:  Accuracy: 0.7056  Loss: 0.00576393\n",
      "Epoch 20, CIFAR-10 Batch 5:  Accuracy: 0.6978  Loss: 0.0132582\n",
      "Epoch 21, CIFAR-10 Batch 1:  Accuracy: 0.6902  Loss: 0.0298895\n",
      "Epoch 21, CIFAR-10 Batch 2:  Accuracy: 0.6858  Loss: 0.0159862\n",
      "Epoch 21, CIFAR-10 Batch 3:  Accuracy: 0.6798  Loss: 0.0135458\n",
      "Epoch 21, CIFAR-10 Batch 4:  Accuracy: 0.6844  Loss: 0.0213167\n",
      "Epoch 21, CIFAR-10 Batch 5:  Accuracy: 0.705  Loss: 0.0100987\n",
      "Epoch 22, CIFAR-10 Batch 1:  Accuracy: 0.6886  Loss: 0.0245477\n",
      "Epoch 22, CIFAR-10 Batch 2:  Accuracy: 0.6978  Loss: 0.0287859\n",
      "Epoch 22, CIFAR-10 Batch 3:  Accuracy: 0.7042  Loss: 0.00899201\n",
      "Epoch 22, CIFAR-10 Batch 4:  Accuracy: 0.6822  Loss: 0.0151101\n",
      "Epoch 22, CIFAR-10 Batch 5:  Accuracy: 0.705  Loss: 0.00994672\n",
      "Epoch 23, CIFAR-10 Batch 1:  Accuracy: 0.6966  Loss: 0.0156991\n",
      "Epoch 23, CIFAR-10 Batch 2:  Accuracy: 0.6926  Loss: 0.0124362\n",
      "Epoch 23, CIFAR-10 Batch 3:  Accuracy: 0.7016  Loss: 0.00351041\n",
      "Epoch 23, CIFAR-10 Batch 4:  Accuracy: 0.6862  Loss: 0.00691181\n",
      "Epoch 23, CIFAR-10 Batch 5:  Accuracy: 0.7076  Loss: 0.00459763\n",
      "Epoch 24, CIFAR-10 Batch 1:  Accuracy: 0.6974  Loss: 0.0268632\n",
      "Epoch 24, CIFAR-10 Batch 2:  Accuracy: 0.691  Loss: 0.0111628\n",
      "Epoch 24, CIFAR-10 Batch 3:  Accuracy: 0.7018  Loss: 0.00426809\n",
      "Epoch 24, CIFAR-10 Batch 4:  Accuracy: 0.6766  Loss: 0.0147094\n",
      "Epoch 24, CIFAR-10 Batch 5:  Accuracy: 0.7034  Loss: 0.0485509\n",
      "Epoch 25, CIFAR-10 Batch 1:  Accuracy: 0.7178  Loss: 0.00723501\n",
      "Epoch 25, CIFAR-10 Batch 2:  Accuracy: 0.709  Loss: 0.0158874\n",
      "Epoch 25, CIFAR-10 Batch 3:  Accuracy: 0.7166  Loss: 0.00810097\n",
      "Epoch 25, CIFAR-10 Batch 4:  Accuracy: 0.7004  Loss: 0.00637168\n",
      "Epoch 25, CIFAR-10 Batch 5:  Accuracy: 0.702  Loss: 0.0147743\n",
      "Epoch 26, CIFAR-10 Batch 1:  Accuracy: 0.7226  Loss: 0.00453549\n",
      "Epoch 26, CIFAR-10 Batch 2:  Accuracy: 0.7076  Loss: 0.00389861\n",
      "Epoch 26, CIFAR-10 Batch 3:  Accuracy: 0.6998  Loss: 0.00397169\n",
      "Epoch 26, CIFAR-10 Batch 4:  Accuracy: 0.7  Loss: 0.010137\n",
      "Epoch 26, CIFAR-10 Batch 5:  Accuracy: 0.6898  Loss: 0.00488902\n",
      "Epoch 27, CIFAR-10 Batch 1:  Accuracy: 0.7062  Loss: 0.0131799\n"
     ]
    },
    {
     "name": "stdout",
     "output_type": "stream",
     "text": [
      "Epoch 27, CIFAR-10 Batch 2:  Accuracy: 0.7038  Loss: 0.00730502\n",
      "Epoch 27, CIFAR-10 Batch 3:  Accuracy: 0.7136  Loss: 0.000757907\n",
      "Epoch 27, CIFAR-10 Batch 4:  Accuracy: 0.6978  Loss: 0.00175528\n",
      "Epoch 27, CIFAR-10 Batch 5:  Accuracy: 0.6956  Loss: 0.0101762\n",
      "Epoch 28, CIFAR-10 Batch 1:  Accuracy: 0.7002  Loss: 0.0054504\n",
      "Epoch 28, CIFAR-10 Batch 2:  Accuracy: 0.7032  Loss: 0.00884405\n",
      "Epoch 28, CIFAR-10 Batch 3:  Accuracy: 0.7016  Loss: 0.00141511\n",
      "Epoch 28, CIFAR-10 Batch 4:  Accuracy: 0.6984  Loss: 0.00198201\n",
      "Epoch 28, CIFAR-10 Batch 5:  Accuracy: 0.6926  Loss: 0.010266\n",
      "Epoch 29, CIFAR-10 Batch 1:  Accuracy: 0.712  Loss: 0.00898241\n",
      "Epoch 29, CIFAR-10 Batch 2:  Accuracy: 0.6856  Loss: 0.0020618\n",
      "Epoch 29, CIFAR-10 Batch 3:  Accuracy: 0.6986  Loss: 0.00118518\n",
      "Epoch 29, CIFAR-10 Batch 4:  Accuracy: 0.6946  Loss: 0.00704565\n",
      "Epoch 29, CIFAR-10 Batch 5:  Accuracy: 0.695  Loss: 0.0112396\n",
      "Epoch 30, CIFAR-10 Batch 1:  Accuracy: 0.695  Loss: 0.00280266\n",
      "Epoch 30, CIFAR-10 Batch 2:  Accuracy: 0.6922  Loss: 0.00277808\n",
      "Epoch 30, CIFAR-10 Batch 3:  Accuracy: 0.706  Loss: 0.00492919\n",
      "Epoch 30, CIFAR-10 Batch 4:  Accuracy: 0.694  Loss: 0.00428046\n",
      "Epoch 30, CIFAR-10 Batch 5:  Accuracy: 0.6964  Loss: 0.00468947\n"
     ]
    }
   ],
   "source": [
    "\"\"\"\n",
    "DON'T MODIFY ANYTHING IN THIS CELL\n",
    "\"\"\"\n",
    "save_model_path = './image_classification'\n",
    "\n",
    "print('Training...')\n",
    "with tf.Session() as sess:\n",
    "    # Initializing the variables\n",
    "    sess.run(tf.global_variables_initializer())\n",
    "    \n",
    "    # Training cycle\n",
    "    for epoch in range(epochs):\n",
    "        # Loop over all batches\n",
    "        n_batches = 5\n",
    "        for batch_i in range(1, n_batches + 1):\n",
    "            for batch_features, batch_labels in helper.load_preprocess_training_batch(batch_i, batch_size):\n",
    "                train_neural_network(sess, optimizer, keep_probability, batch_features, batch_labels)\n",
    "            print('Epoch {:>2}, CIFAR-10 Batch {}:  '.format(epoch + 1, batch_i), end='')\n",
    "            print_stats(sess, batch_features, batch_labels, cost, accuracy)\n",
    "            \n",
    "    # Save Model\n",
    "    saver = tf.train.Saver()\n",
    "    save_path = saver.save(sess, save_model_path)"
   ]
  },
  {
   "cell_type": "markdown",
   "metadata": {},
   "source": [
    "# Checkpoint\n",
    "The model has been saved to disk.\n",
    "## Test Model\n",
    "Test your model against the test dataset.  This will be your final accuracy. You should have an accuracy greater than 50%. If you don't, keep tweaking the model architecture and parameters."
   ]
  },
  {
   "cell_type": "code",
   "execution_count": 319,
   "metadata": {},
   "outputs": [
    {
     "name": "stdout",
     "output_type": "stream",
     "text": [
      "INFO:tensorflow:Restoring parameters from ./image_classification\n",
      "Testing Accuracy: 0.6942246835443038\n",
      "\n"
     ]
    },
    {
     "data": {
      "image/png": "[encoded data removed]",
      "text/plain": [
       "<matplotlib.figure.Figure at 0x7f1eba1dc048>"
      ]
     },
     "metadata": {
      "image/png": {
       "height": 319,
       "width": 355
      }
     },
     "output_type": "display_data"
    }
   ],
   "source": [
    "\"\"\"\n",
    "DON'T MODIFY ANYTHING IN THIS CELL\n",
    "\"\"\"\n",
    "%matplotlib inline\n",
    "%config InlineBackend.figure_format = 'retina'\n",
    "\n",
    "import tensorflow as tf\n",
    "import pickle\n",
    "import helper\n",
    "import random\n",
    "\n",
    "# Set batch size if not already set\n",
    "try:\n",
    "    if batch_size:\n",
    "        pass\n",
    "except NameError:\n",
    "    batch_size = 64\n",
    "\n",
    "save_model_path = './image_classification'\n",
    "n_samples = 4\n",
    "top_n_predictions = 3\n",
    "\n",
    "def test_model():\n",
    "    \"\"\"\n",
    "    Test the saved model against the test dataset\n",
    "    \"\"\"\n",
    "\n",
    "    test_features, test_labels = pickle.load(open('preprocess_test.p', mode='rb'))\n",
    "    loaded_graph = tf.Graph()\n",
    "\n",
    "    with tf.Session(graph=loaded_graph) as sess:\n",
    "        # Load model\n",
    "        loader = tf.train.import_meta_graph(save_model_path + '.meta')\n",
    "        loader.restore(sess, save_model_path)\n",
    "\n",
    "        # Get Tensors from loaded model\n",
    "        loaded_x = loaded_graph.get_tensor_by_name('x:0')\n",
    "        loaded_y = loaded_graph.get_tensor_by_name('y:0')\n",
    "        loaded_keep_prob = loaded_graph.get_tensor_by_name('keep_prob:0')\n",
    "        loaded_logits = loaded_graph.get_tensor_by_name('logits:0')\n",
    "        loaded_acc = loaded_graph.get_tensor_by_name('accuracy:0')\n",
    "        \n",
    "        # Get accuracy in batches for memory limitations\n",
    "        test_batch_acc_total = 0\n",
    "        test_batch_count = 0\n",
    "        \n",
    "        for test_feature_batch, test_label_batch in helper.batch_features_labels(test_features, test_labels, batch_size):\n",
    "            test_batch_acc_total += sess.run(\n",
    "                loaded_acc,\n",
    "                feed_dict={loaded_x: test_feature_batch, loaded_y: test_label_batch, loaded_keep_prob: 1.0})\n",
    "            test_batch_count += 1\n",
    "\n",
    "        print('Testing Accuracy: {}\\n'.format(test_batch_acc_total/test_batch_count))\n",
    "\n",
    "        # Print Random Samples\n",
    "        random_test_features, random_test_labels = tuple(zip(*random.sample(list(zip(test_features, test_labels)), n_samples)))\n",
    "        random_test_predictions = sess.run(\n",
    "            tf.nn.top_k(tf.nn.softmax(loaded_logits), top_n_predictions),\n",
    "            feed_dict={loaded_x: random_test_features, loaded_y: random_test_labels, loaded_keep_prob: 1.0})\n",
    "        helper.display_image_predictions(random_test_features, random_test_labels, random_test_predictions)\n",
    "\n",
    "\n",
    "test_model()"
   ]
  },
  {
   "cell_type": "markdown",
   "metadata": {},
   "source": [
    "## Why 50-80% Accuracy?\n",
    "You might be wondering why you can't get an accuracy any higher. First things first, 50% isn't bad for a simple CNN.  Pure guessing would get you 10% accuracy. However, you might notice people are getting scores [well above 80%](http://rodrigob.github.io/are_we_there_yet/build/classification_datasets_results.html#43494641522d3130).  That's because we haven't taught you all there is to know about neural networks. We still need to cover a few more techniques.\n",
    "## Submitting This Project\n",
    "When submitting this project, make sure to run all the cells before saving the notebook.  Save the notebook file as \"dlnd_image_classification.ipynb\" and save it as a HTML file under \"File\" -> \"Download as\".  Include the \"helper.py\" and \"problem_unittests.py\" files in your submission."
   ]
  }
 ],
 "metadata": {
  "kernelspec": {
   "display_name": "Python 3",
   "language": "python",
   "name": "python3"
  },
  "language_info": {
   "codemirror_mode": {
    "name": "ipython",
    "version": 3
   },
   "file_extension": ".py",
   "mimetype": "text/x-python",
   "name": "python",
   "nbconvert_exporter": "python",
   "pygments_lexer": "ipython3",
   "version": "3.5.3"
  }
 },
 "nbformat": 4,
 "nbformat_minor": 1
}
